{
 "cells": [
  {
   "cell_type": "code",
   "execution_count": 17,
   "id": "590a0fc2",
   "metadata": {},
   "outputs": [],
   "source": [
    "import pandas as pd\n",
    "import numpy as np\n",
    "import seaborn as sns\n",
    "import matplotlib.pyplot as plt\n",
    "import math "
   ]
  },
  {
   "cell_type": "code",
   "execution_count": 29,
   "id": "42ec7c87",
   "metadata": {},
   "outputs": [],
   "source": [
    "data = pd.read_csv ('fifa21_train.csv')\n",
    "def cleanfifa (data):\n",
    "    data = data.drop_duplicates()\n",
    "    data.reset_index()\n",
    "    def fill_na_with_mean(data, columns):\n",
    "        data.fillna({col: data[col].mean() for col in columns}, inplace=True)\n",
    "        columns_to_fill = ['Volleys', 'Curve', 'Agility', 'Balance', 'Jumping', 'Interceptions', 'Positioning', 'Vision', 'Composure', 'Sliding Tackle'] \n",
    "        fill_na_with_mean(data, columns_to_fill)\n",
    "    \n",
    "        \n",
    " "
   ]
  },
  {
   "cell_type": "code",
   "execution_count": 21,
   "id": "21fd90e1",
   "metadata": {},
   "outputs": [
    {
     "name": "stdout",
     "output_type": "stream",
     "text": [
      "ID              0\n",
      "Name            0\n",
      "Age             0\n",
      "Nationality     0\n",
      "Club           18\n",
      "               ..\n",
      "CB              0\n",
      "RCB             0\n",
      "RB              0\n",
      "GK              0\n",
      "OVA             0\n",
      "Length: 101, dtype: int64\n"
     ]
    }
   ],
   "source": [
    "print (data.isna().sum())"
   ]
  },
  {
   "cell_type": "code",
   "execution_count": 32,
   "id": "aa35053b",
   "metadata": {},
   "outputs": [
    {
     "data": {
      "text/plain": [
       "(11701, 101)"
      ]
     },
     "execution_count": 32,
     "metadata": {},
     "output_type": "execute_result"
    }
   ],
   "source": [
    "cleanfifa(data)\n",
    "data.shape"
   ]
  },
  {
   "cell_type": "code",
   "execution_count": 22,
   "id": "82b87896",
   "metadata": {},
   "outputs": [],
   "source": [
    "from sklearn.preprocessing import StandardScaler\n",
    "from sklearn.preprocessing import MinMaxScaler\n",
    "X=data.drop('OVA', axis=1)     \n",
    "y=data['OVA']"
   ]
  },
  {
   "cell_type": "code",
   "execution_count": 23,
   "id": "1d501877",
   "metadata": {},
   "outputs": [
    {
     "data": {
      "text/plain": [
       "(11701, 52)"
      ]
     },
     "execution_count": 23,
     "metadata": {},
     "output_type": "execute_result"
    }
   ],
   "source": [
    "data_num = X.select_dtypes(np.number)\n",
    "data_cat = X.select_dtypes(object)\n",
    "data_num.shape"
   ]
  },
  {
   "cell_type": "code",
   "execution_count": 24,
   "id": "305b5002",
   "metadata": {},
   "outputs": [
    {
     "data": {
      "text/plain": [
       "ID                  0\n",
       "Age                 0\n",
       "Growth              0\n",
       "Attacking           0\n",
       "Crossing            0\n",
       "Finishing           0\n",
       "Heading Accuracy    0\n",
       "Short Passing       0\n",
       "Volleys             0\n",
       "Skill               0\n",
       "Dribbling           0\n",
       "Curve               0\n",
       "FK Accuracy         0\n",
       "Long Passing        0\n",
       "Ball Control        0\n",
       "Movement            0\n",
       "Acceleration        0\n",
       "Sprint Speed        0\n",
       "Agility             0\n",
       "Reactions           0\n",
       "Balance             0\n",
       "Power               0\n",
       "Shot Power          0\n",
       "Jumping             0\n",
       "Stamina             0\n",
       "Strength            0\n",
       "Long Shots          0\n",
       "Mentality           0\n",
       "Aggression          0\n",
       "Interceptions       0\n",
       "Positioning         0\n",
       "Vision              0\n",
       "Penalties           0\n",
       "Composure           0\n",
       "Defending           0\n",
       "Marking             0\n",
       "Standing Tackle     0\n",
       "Sliding Tackle      0\n",
       "Goalkeeping         0\n",
       "GK Diving           0\n",
       "GK Handling         0\n",
       "GK Kicking          0\n",
       "GK Positioning      0\n",
       "GK Reflexes         0\n",
       "Total Stats         0\n",
       "Base Stats          0\n",
       "PAC                 0\n",
       "SHO                 0\n",
       "PAS                 0\n",
       "DRI                 0\n",
       "DEF                 0\n",
       "PHY                 0\n",
       "dtype: int64"
      ]
     },
     "execution_count": 24,
     "metadata": {},
     "output_type": "execute_result"
    }
   ],
   "source": [
    "data_num.isna().sum()"
   ]
  }
 ],
 "metadata": {
  "kernelspec": {
   "display_name": "Python 3 (ipykernel)",
   "language": "python",
   "name": "python3"
  },
  "language_info": {
   "codemirror_mode": {
    "name": "ipython",
    "version": 3
   },
   "file_extension": ".py",
   "mimetype": "text/x-python",
   "name": "python",
   "nbconvert_exporter": "python",
   "pygments_lexer": "ipython3",
   "version": "3.11.5"
  }
 },
 "nbformat": 4,
 "nbformat_minor": 5
}
